{
 "cells": [
  {
   "cell_type": "markdown",
   "id": "74080391-38dd-4580-bd18-23961bbe7db5",
   "metadata": {},
   "source": [
    "Q1.What is multithreading in python? Why is it used? Name the module used to handle threads in python"
   ]
  },
  {
   "cell_type": "raw",
   "id": "2e0a6b53-3f10-4806-a34c-1b217fd593ae",
   "metadata": {},
   "source": [
    "#Ans.\n",
    "Multithreading in Python refers to the concurrent execution of multiple threads within a single program. A thread is a separate sequence of execution within a program that can run concurrently with other threads. Multithreading allows for the execution of multiple tasks or processes simultaneously, leading to potential performance improvements and enhanced responsiveness in certain scenarios.\n",
    "\n",
    "#Use\n",
    "Threads can be used to perform multiple tasks concurrently, such as handling multiple client requests in a server application, processing data in parallel, or performing background tasks while the main program continues to run. By utilizing threads, it becomes possible to achieve better resource utilization and responsiveness.\n",
    "\n",
    "#Module\n",
    "In Python, the module commonly used to handle threads is called 'threading'. The 'threading' module provides a high-level interface and tools for creating and managing threads. \n"
   ]
  },
  {
   "cell_type": "markdown",
   "id": "780267d6-1b5f-44df-96d9-c6f2a90ad715",
   "metadata": {},
   "source": [
    "Q2.Why threading module used?"
   ]
  },
  {
   "cell_type": "raw",
   "id": "1bd90050-62d7-4797-ac85-c4419ee6b687",
   "metadata": {},
   "source": [
    "#Ans.\n",
    "The threading module in Python is used to handle threads and enable concurrent execution of multiple tasks within a single program. Here are some reasons why the threading module is commonly used:\n",
    "1.Concurrent Execution\n",
    "2.Improved Responsiveness\n",
    "3.Resource Utilization\n",
    "4.Simplicity and Abstraction\n",
    "5.Synchronization and Coordination\n",
    "6.Thread-Specific Data"
   ]
  },
  {
   "cell_type": "raw",
   "id": "84f85873-f6aa-446c-9e29-1df65a6b1e39",
   "metadata": {},
   "source": [
    "#Uses of function\n",
    "1.activeCount():\n",
    "The activeCount() method is a class method of the threading module. It returns the number of Thread objects currently alive. It provides a count of active threads in the current program.\n",
    "\n",
    "2.currentthread()\n",
    "The currentThread() function is a function provided by the threading module in Python. It returns the Thread object representing the current thread of execution. This function can be called from within a thread's code to obtain information about the current thread.\n",
    "\n",
    "3.enumerate()\n",
    "The enumerate() function is indeed a built-in function in Python. It allows you to iterate over a sequence while providing both the index and the value of each item in the sequence."
   ]
  },
  {
   "cell_type": "code",
   "execution_count": 18,
   "id": "33ecb0a2-5f1b-46ca-91bc-03cb5fc86df0",
   "metadata": {},
   "outputs": [
    {
     "name": "stdout",
     "output_type": "stream",
     "text": [
      "How old are you? 20\n",
      "Thank you\n"
     ]
    }
   ],
   "source": [
    "#Q3 Ans.\n",
    "import threading\n",
    "\n",
    "def hello(n):\n",
    "    print(\"How old are you?\", n)\n",
    "\n",
    "t1 = threading.Thread(target=hello, args=(20,))\n",
    "t1.start()\n",
    "t1.join()\n",
    "\n",
    "print(\"Thank you\")\n"
   ]
  },
  {
   "cell_type": "raw",
   "id": "c6d8e22e-ab6e-47c7-ae02-6d1a9bf8e264",
   "metadata": {},
   "source": [
    "Q4. Write a python program to create two threads. Thread one must print the list of squares and thread\n",
    "two must print the list of cubes"
   ]
  },
  {
   "cell_type": "code",
   "execution_count": 19,
   "id": "1e1b6db1-1de7-44b8-9435-d71f3895aa35",
   "metadata": {},
   "outputs": [
    {
     "name": "stdout",
     "output_type": "stream",
     "text": [
      "Square of 1: 1\n",
      "Square of 2: 4\n",
      "Square of 3: 9\n",
      "Square of 4: 16\n",
      "Square of 5: 25\n",
      "Square of 6: 36\n",
      "Square of 7: 49\n",
      "Square of 8: 64\n",
      "Square of 9: 81\n",
      "Square of 10: 100\n"
     ]
    }
   ],
   "source": [
    "#Ans.\n",
    "import threading\n",
    "\n",
    "def print_squares():\n",
    "    for i in range(1, 11):\n",
    "        print(f\"Square of {i}: {i**2}\")\n",
    "t1 = threading.Thread(target=print_squares)\n",
    "t1.start()"
   ]
  },
  {
   "cell_type": "code",
   "execution_count": 20,
   "id": "a851c628-d641-4a7f-8185-2d0f35671a49",
   "metadata": {},
   "outputs": [
    {
     "name": "stdout",
     "output_type": "stream",
     "text": [
      "Cube of 1: 1\n",
      "Cube of 2: 8\n",
      "Cube of 3: 27\n",
      "Cube of 4: 64\n",
      "Cube of 5: 125\n",
      "Cube of 6: 216\n",
      "Cube of 7: 343\n",
      "Cube of 8: 512\n",
      "Cube of 9: 729\n",
      "Cube of 10: 1000\n"
     ]
    }
   ],
   "source": [
    "def print_cubes():\n",
    "    for i in range(1, 11):\n",
    "        print(f\"Cube of {i}: {i**3}\")\n",
    "t2 = threading.Thread(target=print_cubes)\n",
    "t2.start()"
   ]
  },
  {
   "cell_type": "raw",
   "id": "e43757eb-e329-4b4b-b0a9-6c7e05a8b4d1",
   "metadata": {},
   "source": [
    "Q5 State advantages and disadvantages of multithreading"
   ]
  },
  {
   "cell_type": "raw",
   "id": "c3988abe-3508-45c6-9a83-d631b1b2a742",
   "metadata": {},
   "source": [
    "#Ans.\n",
    "Advantages of Multithreading:\n",
    "1.Increased Responsiveness: Multithreading allows a program to be more responsive and interactive. By executing multiple threads concurrently, a program can continue performing other tasks while one thread is blocked or waiting for I/O operations.  \n",
    "\n",
    "2.Resource Sharing: Threads within the same process share the same memory space, enabling efficient sharing of data and resources. This can eliminate the need for complex data synchronization mechanisms and facilitate communication between threads.\n",
    "\n",
    "Disadvantages of Multithreading:\n",
    "1.Complexity and Synchronization: Multithreading introduces complexities related to thread synchronization and communication. Accessing shared resources simultaneously can lead to race conditions, deadlocks, and other synchronization issues that require careful handling.\n",
    "\n",
    "2.Increased Memory Usage: Each thread requires its own stack space, which can result in increased memory usage compared to a single-threaded program. With a large number of threads, memory consumption can become a concern."
   ]
  },
  {
   "cell_type": "raw",
   "id": "3380e220-fd08-423a-b2b1-e1ec29fb913e",
   "metadata": {},
   "source": [
    "Q6.Explain deadlocks and race conditions."
   ]
  },
  {
   "cell_type": "code",
   "execution_count": null,
   "id": "c2dc3271-430f-4bdf-94c1-3ef087487ae9",
   "metadata": {},
   "outputs": [],
   "source": [
    "#Ans.\n"
   ]
  }
 ],
 "metadata": {
  "kernelspec": {
   "display_name": "Python 3 (ipykernel)",
   "language": "python",
   "name": "python3"
  },
  "language_info": {
   "codemirror_mode": {
    "name": "ipython",
    "version": 3
   },
   "file_extension": ".py",
   "mimetype": "text/x-python",
   "name": "python",
   "nbconvert_exporter": "python",
   "pygments_lexer": "ipython3",
   "version": "3.10.8"
  }
 },
 "nbformat": 4,
 "nbformat_minor": 5
}
